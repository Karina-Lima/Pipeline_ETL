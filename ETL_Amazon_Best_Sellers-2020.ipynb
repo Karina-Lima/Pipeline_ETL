{
  "nbformat": 4,
  "nbformat_minor": 0,
  "metadata": {
    "colab": {
      "provenance": [],
      "collapsed_sections": [
        "-ZIqXRPCQ313",
        "goOD_0i7RAMt",
        "9IKZ9uQLRxuS",
        "3B97sVdyRWsZ"
      ]
    },
    "kernelspec": {
      "name": "python3",
      "display_name": "Python 3"
    },
    "language_info": {
      "name": "python"
    }
  },
  "cells": [
    {
      "cell_type": "markdown",
      "source": [
        "## **Análise de Dados (ETL) - Livros Best Sellers da Amazon Brasil 2020**\n",
        "\n"
      ],
      "metadata": {
        "id": "JX-dY-71M5Y8"
      }
    },
    {
      "cell_type": "markdown",
      "source": [
        "<img height= 500px src=\"https://www.oficinadanet.com.br/imagens/post/43910/top-10-livros-amazon-2022.jpg\">"
      ],
      "metadata": {
        "id": "e0Yb2hGc_CkB"
      }
    },
    {
      "cell_type": "markdown",
      "source": [
        "### **Objetivo:**\n",
        "análisar os dados dos autores e dos livros mais vendidos na Amazon Brasil em 2020, responder perguntas de amostragem e armazenar informações em uma planilha .xlsx"
      ],
      "metadata": {
        "id": "Fypd86fo6BDc"
      }
    },
    {
      "cell_type": "markdown",
      "source": [
        "#### **Extract** - Extraindo dados de uma fonte .csv"
      ],
      "metadata": {
        "id": "-ZIqXRPCQ313"
      }
    },
    {
      "cell_type": "code",
      "source": [
        "# Importações Bibliotecas\n",
        "import numpy as np\n",
        "import pandas as pd\n"
      ],
      "metadata": {
        "id": "Ftqm1oGpQ13n"
      },
      "execution_count": 1,
      "outputs": []
    },
    {
      "cell_type": "code",
      "source": [
        "# Extraindo Dados (.csv)\n",
        "df = pd.read_csv(\"br-books-2020.csv\", sep ='|')"
      ],
      "metadata": {
        "id": "xXbKIYAI_3Bp"
      },
      "execution_count": 87,
      "outputs": []
    },
    {
      "cell_type": "markdown",
      "source": [
        "#### **Transform** - Tratamento dos dados para análise"
      ],
      "metadata": {
        "id": "goOD_0i7RAMt"
      }
    },
    {
      "cell_type": "code",
      "source": [
        "# Exclusão das colunas não utilizadas\n",
        "cols_to_keep = ['time', 'Rank', 'Product Names', 'Authors/Company', 'Price_std_or_min']\n",
        "df = df[cols_to_keep]\n",
        "df.info()"
      ],
      "metadata": {
        "id": "iKvjXBdCjJey"
      },
      "execution_count": null,
      "outputs": []
    },
    {
      "cell_type": "code",
      "source": [
        "# Formatando .df['time'] para AAAA/MM\n",
        "df['time'] = df['time'].str.slice(0, 7)\n",
        "df.head()"
      ],
      "metadata": {
        "id": "fzhQTqc6kdlt"
      },
      "execution_count": null,
      "outputs": []
    },
    {
      "cell_type": "code",
      "source": [
        "# Exclusão dos Dados Nulos\n",
        "df.dropna()\n",
        "df.isnull().sum()"
      ],
      "metadata": {
        "id": "nsoMaFNmRWLH"
      },
      "execution_count": null,
      "outputs": []
    },
    {
      "cell_type": "code",
      "source": [
        "# Remover linhas duplicadas com o mesmo 'Product Names' e manter a primeira ocorrência\n",
        "df = df.drop_duplicates(subset='Product Names', keep='first')\n",
        "df.info()"
      ],
      "metadata": {
        "id": "eqvMDH160ssh"
      },
      "execution_count": null,
      "outputs": []
    },
    {
      "cell_type": "code",
      "source": [
        "# Dados \"limpos\"\n",
        "df.head(80)"
      ],
      "metadata": {
        "id": "JBw7sGZH20Mi"
      },
      "execution_count": null,
      "outputs": []
    },
    {
      "cell_type": "markdown",
      "source": [
        "#### **Plotagem:** Perguntas de amostragem"
      ],
      "metadata": {
        "id": "9IKZ9uQLRxuS"
      }
    },
    {
      "cell_type": "markdown",
      "source": [
        "• Bibliotecas 'seaborn' e 'matplotlib' serão responsáveis pela plotagem dos dados do dataframe"
      ],
      "metadata": {
        "id": "w9nhvVMlynnW"
      }
    },
    {
      "cell_type": "code",
      "source": [
        "# Bibliotecas de Visualização dos Dados\n",
        "import seaborn as sns\n",
        "import matplotlib\n",
        "import matplotlib.pyplot as plt"
      ],
      "metadata": {
        "id": "x8Z1US5nMvKK"
      },
      "execution_count": 96,
      "outputs": []
    },
    {
      "cell_type": "markdown",
      "source": [
        "1. Quais foram os Best Sellers mais vendidos em 2020, com escala de preços?"
      ],
      "metadata": {
        "id": "2TE3Sa4dP5Jx"
      }
    },
    {
      "cell_type": "code",
      "source": [
        "# Filtrar o DataFrame para conter apenas livros vendidos em 2020\n",
        "df_2020 = df[df['time'].str.startswith('2020')]\n",
        "\n",
        "# Selecionando intervalo para amostragem\n",
        "df_2020 = df_2020.head(20)\n",
        "\n",
        "# Plotagem - Gráfico de barras com escala de calor\n",
        "plt.figure(figsize=(14, 6))\n",
        "sns.barplot(data=df_2020, x='Rank', y='Product Names', hue='Price_std_or_min', palette='coolwarm')\n",
        "plt.xlabel('Rank (Mais Vendidos)')\n",
        "plt.ylabel('Livros')\n",
        "plt.title('Best Sellers mais vendidos em 2020 - escala de preços')\n",
        "plt.gca()\n",
        "plt.tight_layout()\n",
        "\n",
        "# Exibir o gráfico\n",
        "plt.show()"
      ],
      "metadata": {
        "id": "j9cCIBqQoe3V"
      },
      "execution_count": null,
      "outputs": []
    },
    {
      "cell_type": "markdown",
      "source": [
        "2. Quais autores possuem mais best sellers publicados?"
      ],
      "metadata": {
        "id": "uhqFNXi5PxXT"
      }
    },
    {
      "cell_type": "code",
      "source": [
        "# Função \"value_counts\" para contar o número de livros atribuídos por autor\n",
        "contagem_autores = df['Authors/Company'].value_counts()\n",
        "\n",
        "# Selecionando intervalo para amostragem\n",
        "contagem_autores = contagem_autores.head(25)\n",
        "\n",
        "# Ordenando em ordem crescente\n",
        "contagem_autores = contagem_autores.sort_values(ascending=True)\n",
        "\n",
        "# Plotagem - Gráfico de barras horizontais\n",
        "plt.figure(figsize=(12, 6))\n",
        "contagem_autores.plot(kind='barh', color='skyblue')\n",
        "plt.xlabel('Quantidade de Livros')\n",
        "plt.ylabel('Autores')\n",
        "plt.title('Autores com mais Best Sellers Publicados')\n",
        "plt.tight_layout()\n",
        "\n",
        "# Exibir o gráfico\n",
        "plt.show()"
      ],
      "metadata": {
        "id": "KPnWhIa4tjYY"
      },
      "execution_count": null,
      "outputs": []
    },
    {
      "cell_type": "markdown",
      "source": [
        "3. Qual a relação dos preços dos Best Sellers com a sua classificação na Amazon?"
      ],
      "metadata": {
        "id": "TL2z4Dy-97wQ"
      }
    },
    {
      "cell_type": "code",
      "source": [
        "# Filtrar o DataFrame para conter apenas livros vendidos em 2020\n",
        "df_2020 = df[df['time'].str.startswith('2020')]\n",
        "\n",
        "# Selecionando intervalo para amostragem\n",
        "df_2020 = df_2020.head(30)\n",
        "\n",
        "# Criar um gráfico de linhas para analisar a relação entre preço e classificação\n",
        "plt.figure(figsize=(14, 6))\n",
        "plt.plot(df_2020['Rank'], df_2020['Price_std_or_min'], marker='o', linestyle='-', color='#FF5733')\n",
        "plt.xlabel('Ranking (Mais Vendidos)')\n",
        "plt.ylabel('Preço')\n",
        "plt.title('Relação entre Classificação no Ranking e preço')\n",
        "plt.tight_layout()\n",
        "\n",
        "# Exibir o gráfico\n",
        "plt.show()\n"
      ],
      "metadata": {
        "id": "EmDLGhEp690M"
      },
      "execution_count": null,
      "outputs": []
    },
    {
      "cell_type": "markdown",
      "source": [
        "#### **Load** - Salvando dataframe"
      ],
      "metadata": {
        "id": "3B97sVdyRWsZ"
      }
    },
    {
      "cell_type": "markdown",
      "source": [
        "**• Planilha do Excel:**"
      ],
      "metadata": {
        "id": "qVZ8C55pBKyo"
      }
    },
    {
      "cell_type": "code",
      "source": [
        "from google.colab import files\n",
        "\n",
        "planilha_excel = 'dados_best_sellers_amazon_2020.xlsx'\n",
        "\n",
        "# Use o método to_excel para salvar o DataFrame em um arquivo Excel\n",
        "df.to_excel(planilha_excel, index=False)  # index=False evita a inclusão do índice na planilha\n",
        "\n",
        "# Link de download\n",
        "files.download(planilha_excel)"
      ],
      "metadata": {
        "id": "pY4tMckjRdZO",
        "colab": {
          "base_uri": "https://localhost:8080/",
          "height": 17
        },
        "outputId": "da94caaa-cff7-4459-a054-cb9fe3bbb591"
      },
      "execution_count": 132,
      "outputs": [
        {
          "output_type": "display_data",
          "data": {
            "text/plain": [
              "<IPython.core.display.Javascript object>"
            ],
            "application/javascript": [
              "\n",
              "    async function download(id, filename, size) {\n",
              "      if (!google.colab.kernel.accessAllowed) {\n",
              "        return;\n",
              "      }\n",
              "      const div = document.createElement('div');\n",
              "      const label = document.createElement('label');\n",
              "      label.textContent = `Downloading \"${filename}\": `;\n",
              "      div.appendChild(label);\n",
              "      const progress = document.createElement('progress');\n",
              "      progress.max = size;\n",
              "      div.appendChild(progress);\n",
              "      document.body.appendChild(div);\n",
              "\n",
              "      const buffers = [];\n",
              "      let downloaded = 0;\n",
              "\n",
              "      const channel = await google.colab.kernel.comms.open(id);\n",
              "      // Send a message to notify the kernel that we're ready.\n",
              "      channel.send({})\n",
              "\n",
              "      for await (const message of channel.messages) {\n",
              "        // Send a message to notify the kernel that we're ready.\n",
              "        channel.send({})\n",
              "        if (message.buffers) {\n",
              "          for (const buffer of message.buffers) {\n",
              "            buffers.push(buffer);\n",
              "            downloaded += buffer.byteLength;\n",
              "            progress.value = downloaded;\n",
              "          }\n",
              "        }\n",
              "      }\n",
              "      const blob = new Blob(buffers, {type: 'application/binary'});\n",
              "      const a = document.createElement('a');\n",
              "      a.href = window.URL.createObjectURL(blob);\n",
              "      a.download = filename;\n",
              "      div.appendChild(a);\n",
              "      a.click();\n",
              "      div.remove();\n",
              "    }\n",
              "  "
            ]
          },
          "metadata": {}
        },
        {
          "output_type": "display_data",
          "data": {
            "text/plain": [
              "<IPython.core.display.Javascript object>"
            ],
            "application/javascript": [
              "download(\"download_1c494599-6b1b-4043-a575-046a47ce5b52\", \"dados_best_sellers_amazon_2020.xlsx\", 25199)"
            ]
          },
          "metadata": {}
        }
      ]
    },
    {
      "cell_type": "markdown",
      "source": [
        "**• Google Drive**"
      ],
      "metadata": {
        "id": "P74zPpayB_IY"
      }
    },
    {
      "cell_type": "code",
      "source": [
        "# Credenciais\n",
        "from google.colab import drive\n",
        "drive.mount('/content/drive')"
      ],
      "metadata": {
        "id": "M5xrsB0HCH-v"
      },
      "execution_count": null,
      "outputs": []
    },
    {
      "cell_type": "code",
      "source": [
        "# Caminho Google Drive\n",
        "caminho_drive = '/content/drive/My Drive/dados_best_sellers_amazon_2020.xlsx'\n",
        "\n",
        "#Conversão .xlsx\n",
        "df.to_excel(caminho_drive, index=False)  # index=False evita a inclusão do índice no Excel\n",
        "\n",
        "print(f'Dados salvos em {caminho_drive}')"
      ],
      "metadata": {
        "id": "2TzI4do0CWME"
      },
      "execution_count": null,
      "outputs": []
    },
    {
      "cell_type": "markdown",
      "source": [
        "#### **Utilitários**"
      ],
      "metadata": {
        "id": "WvuGgIIIDVg5"
      }
    },
    {
      "cell_type": "markdown",
      "source": [
        "• https://www.kaggle.com/datasets/edwardtoledolpez/amazon-mexico-top-50-best-sellers/data - Fonte de Dados Kaggle\n",
        "\n",
        "'csv/br-books.csv'"
      ],
      "metadata": {
        "id": "Wpsh8H08Dgo0"
      }
    }
  ]
}